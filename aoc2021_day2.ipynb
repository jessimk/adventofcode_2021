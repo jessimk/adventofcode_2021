{
 "cells": [
  {
   "cell_type": "code",
   "execution_count": 1,
   "metadata": {},
   "outputs": [],
   "source": [
    "import pandas as pd\n",
    "import numpy as np"
   ]
  },
  {
   "cell_type": "markdown",
   "metadata": {},
   "source": [
    "## part 1"
   ]
  },
  {
   "cell_type": "code",
   "execution_count": 2,
   "metadata": {},
   "outputs": [],
   "source": [
    "url = \"https://raw.githubusercontent.com/jessimk/adventofcode_2021/main/data/day2_demo.txt\"\n",
    "df = pd.read_csv(url, sep=\",\", names=['course_command'])"
   ]
  },
  {
   "cell_type": "markdown",
   "metadata": {},
   "source": [
    "### demo data"
   ]
  },
  {
   "cell_type": "code",
   "execution_count": 3,
   "metadata": {},
   "outputs": [
    {
     "data": {
      "text/html": [
       "<div>\n",
       "<style scoped>\n",
       "    .dataframe tbody tr th:only-of-type {\n",
       "        vertical-align: middle;\n",
       "    }\n",
       "\n",
       "    .dataframe tbody tr th {\n",
       "        vertical-align: top;\n",
       "    }\n",
       "\n",
       "    .dataframe thead th {\n",
       "        text-align: right;\n",
       "    }\n",
       "</style>\n",
       "<table border=\"1\" class=\"dataframe\">\n",
       "  <thead>\n",
       "    <tr style=\"text-align: right;\">\n",
       "      <th></th>\n",
       "      <th>action_type</th>\n",
       "      <th>action_amount</th>\n",
       "    </tr>\n",
       "  </thead>\n",
       "  <tbody>\n",
       "    <tr>\n",
       "      <th>0</th>\n",
       "      <td>forward</td>\n",
       "      <td>5</td>\n",
       "    </tr>\n",
       "    <tr>\n",
       "      <th>1</th>\n",
       "      <td>down</td>\n",
       "      <td>5</td>\n",
       "    </tr>\n",
       "    <tr>\n",
       "      <th>2</th>\n",
       "      <td>forward</td>\n",
       "      <td>8</td>\n",
       "    </tr>\n",
       "    <tr>\n",
       "      <th>3</th>\n",
       "      <td>up</td>\n",
       "      <td>3</td>\n",
       "    </tr>\n",
       "    <tr>\n",
       "      <th>4</th>\n",
       "      <td>down</td>\n",
       "      <td>8</td>\n",
       "    </tr>\n",
       "    <tr>\n",
       "      <th>5</th>\n",
       "      <td>forward</td>\n",
       "      <td>2</td>\n",
       "    </tr>\n",
       "  </tbody>\n",
       "</table>\n",
       "</div>"
      ],
      "text/plain": [
       "  action_type  action_amount\n",
       "0     forward              5\n",
       "1        down              5\n",
       "2     forward              8\n",
       "3          up              3\n",
       "4        down              8\n",
       "5     forward              2"
      ]
     },
     "execution_count": 3,
     "metadata": {},
     "output_type": "execute_result"
    }
   ],
   "source": [
    "df = df['course_command'].str.split(' ', expand=True)\n",
    "df.columns = ['action_type', 'action_amount']\n",
    "df['action_amount'] = pd.to_numeric(df['action_amount'])\n",
    "df"
   ]
  },
  {
   "cell_type": "code",
   "execution_count": 4,
   "metadata": {},
   "outputs": [
    {
     "name": "stdout",
     "output_type": "stream",
     "text": [
      "<class 'pandas.core.frame.DataFrame'>\n",
      "RangeIndex: 6 entries, 0 to 5\n",
      "Data columns (total 2 columns):\n",
      " #   Column         Non-Null Count  Dtype \n",
      "---  ------         --------------  ----- \n",
      " 0   action_type    6 non-null      object\n",
      " 1   action_amount  6 non-null      int64 \n",
      "dtypes: int64(1), object(1)\n",
      "memory usage: 224.0+ bytes\n"
     ]
    }
   ],
   "source": [
    "df.info()"
   ]
  },
  {
   "cell_type": "code",
   "execution_count": 5,
   "metadata": {},
   "outputs": [
    {
     "data": {
      "text/plain": [
       "{'horizontal': 15, 'depth': 10}"
      ]
     },
     "execution_count": 5,
     "metadata": {},
     "output_type": "execute_result"
    }
   ],
   "source": [
    "submarine_position = {'horizontal':0, 'depth':0}\n",
    "for step in np.arange(0, df.shape[0], 1):\n",
    "    if df['action_type'].iloc[step] == 'forward':\n",
    "        submarine_position['horizontal']+= df['action_amount'].iloc[step]\n",
    "    elif df['action_type'].iloc[step] == 'down':\n",
    "        submarine_position['depth']+= df['action_amount'].iloc[step]\n",
    "    elif df['action_type'].iloc[step] == 'up':\n",
    "        submarine_position['depth']-= df['action_amount'].iloc[step]\n",
    "\n",
    "submarine_position"
   ]
  },
  {
   "cell_type": "code",
   "execution_count": 6,
   "metadata": {},
   "outputs": [
    {
     "data": {
      "text/plain": [
       "150"
      ]
     },
     "execution_count": 6,
     "metadata": {},
     "output_type": "execute_result"
    }
   ],
   "source": [
    "submarine_position['horizontal'] * submarine_position['depth']"
   ]
  },
  {
   "cell_type": "markdown",
   "metadata": {},
   "source": [
    "### puzzle data"
   ]
  },
  {
   "cell_type": "code",
   "execution_count": 7,
   "metadata": {},
   "outputs": [],
   "source": [
    "url = \"https://raw.githubusercontent.com/jessimk/adventofcode_2021/main/data/day2.txt\"\n",
    "puzzle_df = pd.read_csv(url, sep=\",\", names=['course_command'])"
   ]
  },
  {
   "cell_type": "code",
   "execution_count": 8,
   "metadata": {},
   "outputs": [],
   "source": [
    "puzzle_df = puzzle_df['course_command'].str.split(' ', expand=True)\n",
    "puzzle_df.columns = ['action_type', 'action_amount']\n",
    "puzzle_df['action_amount'] = pd.to_numeric(puzzle_df['action_amount'])"
   ]
  },
  {
   "cell_type": "code",
   "execution_count": 9,
   "metadata": {},
   "outputs": [
    {
     "name": "stdout",
     "output_type": "stream",
     "text": [
      "<class 'pandas.core.frame.DataFrame'>\n",
      "RangeIndex: 1000 entries, 0 to 999\n",
      "Data columns (total 2 columns):\n",
      " #   Column         Non-Null Count  Dtype \n",
      "---  ------         --------------  ----- \n",
      " 0   action_type    1000 non-null   object\n",
      " 1   action_amount  1000 non-null   int64 \n",
      "dtypes: int64(1), object(1)\n",
      "memory usage: 15.8+ KB\n"
     ]
    }
   ],
   "source": [
    "puzzle_df.info()"
   ]
  },
  {
   "cell_type": "code",
   "execution_count": 10,
   "metadata": {},
   "outputs": [
    {
     "data": {
      "text/plain": [
       "{'horizontal': 1988, 'depth': 913}"
      ]
     },
     "execution_count": 10,
     "metadata": {},
     "output_type": "execute_result"
    }
   ],
   "source": [
    "submarine_position = {'horizontal':0, 'depth':0}\n",
    "for step in np.arange(0, puzzle_df.shape[0], 1):\n",
    "    if puzzle_df['action_type'].iloc[step] == 'forward':\n",
    "        submarine_position['horizontal']+= puzzle_df['action_amount'].iloc[step]\n",
    "    elif puzzle_df['action_type'].iloc[step] == 'down':\n",
    "        submarine_position['depth']+= puzzle_df['action_amount'].iloc[step]\n",
    "    elif puzzle_df['action_type'].iloc[step] == 'up':\n",
    "        submarine_position['depth']-= puzzle_df['action_amount'].iloc[step]\n",
    "\n",
    "submarine_position"
   ]
  },
  {
   "cell_type": "code",
   "execution_count": 11,
   "metadata": {},
   "outputs": [
    {
     "data": {
      "text/plain": [
       "1815044"
      ]
     },
     "execution_count": 11,
     "metadata": {},
     "output_type": "execute_result"
    }
   ],
   "source": [
    "submarine_position['horizontal'] * submarine_position['depth']"
   ]
  },
  {
   "cell_type": "markdown",
   "metadata": {},
   "source": [
    "## part 2"
   ]
  },
  {
   "cell_type": "code",
   "execution_count": 12,
   "metadata": {},
   "outputs": [],
   "source": [
    "url = \"https://raw.githubusercontent.com/jessimk/adventofcode_2021/main/data/day2_demo.txt\"\n",
    "df = pd.read_csv(url, sep=\",\", names=['course_command'])"
   ]
  },
  {
   "cell_type": "code",
   "execution_count": 13,
   "metadata": {},
   "outputs": [
    {
     "data": {
      "text/html": [
       "<div>\n",
       "<style scoped>\n",
       "    .dataframe tbody tr th:only-of-type {\n",
       "        vertical-align: middle;\n",
       "    }\n",
       "\n",
       "    .dataframe tbody tr th {\n",
       "        vertical-align: top;\n",
       "    }\n",
       "\n",
       "    .dataframe thead th {\n",
       "        text-align: right;\n",
       "    }\n",
       "</style>\n",
       "<table border=\"1\" class=\"dataframe\">\n",
       "  <thead>\n",
       "    <tr style=\"text-align: right;\">\n",
       "      <th></th>\n",
       "      <th>action_type</th>\n",
       "      <th>action_amount</th>\n",
       "    </tr>\n",
       "  </thead>\n",
       "  <tbody>\n",
       "    <tr>\n",
       "      <th>0</th>\n",
       "      <td>forward</td>\n",
       "      <td>5</td>\n",
       "    </tr>\n",
       "    <tr>\n",
       "      <th>1</th>\n",
       "      <td>down</td>\n",
       "      <td>5</td>\n",
       "    </tr>\n",
       "    <tr>\n",
       "      <th>2</th>\n",
       "      <td>forward</td>\n",
       "      <td>8</td>\n",
       "    </tr>\n",
       "    <tr>\n",
       "      <th>3</th>\n",
       "      <td>up</td>\n",
       "      <td>3</td>\n",
       "    </tr>\n",
       "    <tr>\n",
       "      <th>4</th>\n",
       "      <td>down</td>\n",
       "      <td>8</td>\n",
       "    </tr>\n",
       "    <tr>\n",
       "      <th>5</th>\n",
       "      <td>forward</td>\n",
       "      <td>2</td>\n",
       "    </tr>\n",
       "  </tbody>\n",
       "</table>\n",
       "</div>"
      ],
      "text/plain": [
       "  action_type  action_amount\n",
       "0     forward              5\n",
       "1        down              5\n",
       "2     forward              8\n",
       "3          up              3\n",
       "4        down              8\n",
       "5     forward              2"
      ]
     },
     "execution_count": 13,
     "metadata": {},
     "output_type": "execute_result"
    }
   ],
   "source": [
    "df = df['course_command'].str.split(' ', expand=True)\n",
    "df.columns = ['action_type', 'action_amount']\n",
    "df['action_amount'] = pd.to_numeric(df['action_amount'])\n",
    "df"
   ]
  },
  {
   "cell_type": "code",
   "execution_count": 14,
   "metadata": {},
   "outputs": [
    {
     "data": {
      "text/plain": [
       "{'horizontal': 15, 'depth': 60, 'aim': 10}"
      ]
     },
     "execution_count": 14,
     "metadata": {},
     "output_type": "execute_result"
    }
   ],
   "source": [
    "submarine_position = {'horizontal':0, 'depth':0, 'aim':0}\n",
    "\n",
    "for step in np.arange(0, df.shape[0], 1):\n",
    "    if df['action_type'].iloc[step] == 'forward':\n",
    "        submarine_position['horizontal']+= df['action_amount'].iloc[step]\n",
    "        submarine_position['depth']+= (df['action_amount'].iloc[step] * submarine_position['aim'])\n",
    "        \n",
    "    elif df['action_type'].iloc[step] == 'down':\n",
    "        submarine_position['aim']+= df['action_amount'].iloc[step]\n",
    "        \n",
    "    elif df['action_type'].iloc[step] == 'up':\n",
    "        submarine_position['aim']-= df['action_amount'].iloc[step]\n",
    "\n",
    "submarine_position"
   ]
  },
  {
   "cell_type": "code",
   "execution_count": 15,
   "metadata": {},
   "outputs": [
    {
     "data": {
      "text/plain": [
       "900"
      ]
     },
     "execution_count": 15,
     "metadata": {},
     "output_type": "execute_result"
    }
   ],
   "source": [
    "submarine_position['horizontal'] * submarine_position['depth']"
   ]
  },
  {
   "cell_type": "markdown",
   "metadata": {},
   "source": [
    "### puzzle data part 2"
   ]
  },
  {
   "cell_type": "code",
   "execution_count": 16,
   "metadata": {},
   "outputs": [],
   "source": [
    "url = \"https://raw.githubusercontent.com/jessimk/adventofcode_2021/main/data/day2.txt\"\n",
    "puzzle_df = pd.read_csv(url, sep=\",\", names=['course_command'])"
   ]
  },
  {
   "cell_type": "code",
   "execution_count": 17,
   "metadata": {},
   "outputs": [],
   "source": [
    "puzzle_df = puzzle_df['course_command'].str.split(' ', expand=True)\n",
    "puzzle_df.columns = ['action_type', 'action_amount']\n",
    "puzzle_df['action_amount'] = pd.to_numeric(puzzle_df['action_amount'])"
   ]
  },
  {
   "cell_type": "code",
   "execution_count": 18,
   "metadata": {},
   "outputs": [
    {
     "data": {
      "text/plain": [
       "{'horizontal': 1988, 'depth': 874891, 'aim': 913}"
      ]
     },
     "execution_count": 18,
     "metadata": {},
     "output_type": "execute_result"
    }
   ],
   "source": [
    "submarine_position = {'horizontal':0, 'depth':0, 'aim':0}\n",
    "\n",
    "for step in np.arange(0, puzzle_df.shape[0], 1):\n",
    "    if puzzle_df['action_type'].iloc[step] == 'forward':\n",
    "        submarine_position['horizontal']+= puzzle_df['action_amount'].iloc[step]\n",
    "        submarine_position['depth']+= (puzzle_df['action_amount'].iloc[step] * submarine_position['aim'])\n",
    "        \n",
    "    elif puzzle_df['action_type'].iloc[step] == 'down':\n",
    "        submarine_position['aim']+= puzzle_df['action_amount'].iloc[step]\n",
    "        \n",
    "    elif puzzle_df['action_type'].iloc[step] == 'up':\n",
    "        submarine_position['aim']-= puzzle_df['action_amount'].iloc[step]\n",
    "\n",
    "submarine_position"
   ]
  },
  {
   "cell_type": "code",
   "execution_count": 19,
   "metadata": {},
   "outputs": [
    {
     "data": {
      "text/plain": [
       "1739283308"
      ]
     },
     "execution_count": 19,
     "metadata": {},
     "output_type": "execute_result"
    }
   ],
   "source": [
    "submarine_position['horizontal'] * submarine_position['depth']"
   ]
  },
  {
   "cell_type": "code",
   "execution_count": null,
   "metadata": {},
   "outputs": [],
   "source": []
  }
 ],
 "metadata": {
  "kernelspec": {
   "display_name": "Python 3",
   "language": "python",
   "name": "python3"
  },
  "language_info": {
   "codemirror_mode": {
    "name": "ipython",
    "version": 3
   },
   "file_extension": ".py",
   "mimetype": "text/x-python",
   "name": "python",
   "nbconvert_exporter": "python",
   "pygments_lexer": "ipython3",
   "version": "3.8.3"
  }
 },
 "nbformat": 4,
 "nbformat_minor": 4
}
